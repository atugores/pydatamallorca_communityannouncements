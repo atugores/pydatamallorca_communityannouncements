{
 "cells": [
  {
   "cell_type": "markdown",
   "metadata": {
    "nbpresent": {
     "id": "51208b87-b466-4f24-8c8f-6414a0eeee12"
    },
    "slideshow": {
     "slide_type": "slide"
    }
   },
   "source": [
    "![](images/PyDataLogo_Mallorca.png)"
   ]
  },
  {
   "cell_type": "markdown",
   "metadata": {
    "nbpresent": {
     "id": "e0e2da0e-7399-44cb-a5b4-19b4b2a98ca7"
    },
    "slideshow": {
     "slide_type": "slide"
    }
   },
   "source": [
    "# November recap\n",
    "\n",
    "### Great talks:\n",
    "* Fast Fragmentation of Real Networks Using Module-Based Attacks (Juan Carlos Gonzalez)\n",
    "* Scrapy or your scraper, that's the question (Isaac Lera)\n",
    "* Word2vec for all (Oscar Garcia)\n",
    "* Azure ML (Jesús Corrius)\n",
    "\n",
    "### News:\n",
    "* Python 3.6: Still waiting, RC2 released on Saturday\n",
    "* NumFOCUS new projects: PyMC3 and FEniCS\n",
    "* New PyData meetups. Since last meetup, also Bratislava and Viena\n",
    "\n",
    "**Thank you again Hundredrooms**"
   ]
  },
  {
   "cell_type": "markdown",
   "metadata": {
    "nbpresent": {
     "id": "1a56e118-aec4-4c6b-b2b4-ece621cb9698"
    },
    "slideshow": {
     "slide_type": "slide"
    }
   },
   "source": [
    "# PyData December\n",
    "\n",
    "\n",
    "### News:\n",
    "* nbdime: diffs and merges of Jupyter notebooks\n",
    "* Matplotlib 2.0rc1 released\n",
    "* Kaggle terrorist attacks dataset\n",
    "* Embedding Projector: Visualization of multidimensional data\n",
    "* Uber rolls out self-driving cars in San Francisco\n",
    "\n",
    "### Community:\n",
    "* PyData Mallorca\n",
    "* Social media awards\n",
    "* Call For Papers\n",
    "* Sponsor\n"
   ]
  },
  {
   "cell_type": "markdown",
   "metadata": {
    "slideshow": {
     "slide_type": "slide"
    }
   },
   "source": [
    "# PyData December\n",
    "\n",
    "\n",
    "### Talks:\n",
    "* Marvel Social Network . Studying the Marvel Universe. Ricardo Alberich\n",
    "* A python vision of computer vision. Numpy and OpenCV working together. Biel Moyà\n",
    "* Generació aleatòria i seqüencial d'estructures discretes. Aplicaciones en Python. Biel Cardona"
   ]
  },
  {
   "cell_type": "markdown",
   "metadata": {
    "slideshow": {
     "slide_type": "slide"
    }
   },
   "source": [
    "# Thanks to our sponsor\n",
    "\n",
    "## Máster de Análisis de Datos Masivos en Economía y Empresa\n",
    "\n",
    "More information: **madm.uib.es**\n",
    "\n",
    "![](images/master.png)\n"
   ]
  },
  {
   "cell_type": "markdown",
   "metadata": {
    "nbpresent": {
     "id": "e348d1d4-26ec-4f6b-a0a9-329f6a52533c"
    },
    "slideshow": {
     "slide_type": "slide"
    }
   },
   "source": [
    "# nbdime\n",
    "\n",
    "diffs and merges of Jupyter notebooks\n",
    "\n",
    "![](images/nbdime.png)\n",
    "\n",
    "Resources:\n",
    "* Docs: https://nbdime.readthedocs.io/en/latest/\n",
    "* Talk: https://www.youtube.com/watch?v=tKAmwC8ay8E\n",
    "* Source: https://github.com/jupyter/nbdime"
   ]
  },
  {
   "cell_type": "markdown",
   "metadata": {
    "nbpresent": {
     "id": "db42a754-bec9-4972-842f-b602daea8159"
    },
    "slideshow": {
     "slide_type": "slide"
    }
   },
   "source": [
    "# Matplotlib 2.0 RC1 is out\n",
    "\n",
    "Community:\n",
    "* closed 490 issues and merged 387 pull requests\n",
    "* 1788 commits (148 authors)\n",
    "\n",
    "Main changes:\n",
    "* The major changes in v2.0 are related to overhauling the default styles.\n",
    "* Faster text rendering\n",
    "* Improved image support\n",
    "* The default animation codec has been changed from mpeg4 to h264, which is more efficient\n",
    "\n",
    "Release notes: http://matplotlib.org/2.0.0rc1/users/whats_new.html"
   ]
  },
  {
   "cell_type": "markdown",
   "metadata": {
    "nbpresent": {
     "id": "e16e9696-7a70-4138-9908-e1fc41fb0f55"
    },
    "slideshow": {
     "slide_type": "slide"
    }
   },
   "source": [
    "# Kaggle terrorist attack dataset\n",
    "\n",
    "Dataset with more then 150,000 terrorist attacks between 1970 - 2015\n",
    "\n",
    "![](images/terrorist_attacks.png)\n",
    "\n",
    "Website: https://www.kaggle.com/START-UMD/gtd"
   ]
  },
  {
   "cell_type": "markdown",
   "metadata": {
    "nbpresent": {
     "id": "864b4eab-5832-44ad-96dd-fc89c511865f"
    },
    "slideshow": {
     "slide_type": "slide"
    }
   },
   "source": [
    "# Embedding Projector: Interactive Visualization and Interpretation of Embeddings\n",
    "\n",
    "![](images/embedded_projector.png)\n",
    "\n",
    "Website: http://projector.tensorflow.org/"
   ]
  },
  {
   "cell_type": "markdown",
   "metadata": {
    "nbpresent": {
     "id": "3de52f1c-9eee-44b0-8f6b-dbaa7e107cf7"
    },
    "slideshow": {
     "slide_type": "skip"
    }
   },
   "source": [
    "# Uber Self-Driving Car\n",
    "\n",
    "* Now testing in Pennsylvania and California.\n",
    "* Human drivers monitoring the car.\n",
    "* Working 24 hours a day.\n",
    "* Legal issues in California: self-driving vs autonomous.\n",
    "* Main technologies: LiDAR, GPS, Kalman filters, neural networks. \n",
    "* Udacity Self-Driving Car Engineer: https://www.udacity.com/drive.\n",
    "* Other companies: Google, Tesla.\n",
    "* Defense Advanced Research Projects Agency (DARPA) Autonomous Vehicle in 2004."
   ]
  },
  {
   "cell_type": "markdown",
   "metadata": {
    "nbpresent": {
     "id": "8fa1cb98-c4ba-4d9f-9e36-bfe38cd217d3"
    },
    "slideshow": {
     "slide_type": "slide"
    }
   },
   "source": [
    "# Uber Self-Driving Car\n",
    "\n",
    "![](images/uber.png)\n"
   ]
  },
  {
   "cell_type": "markdown",
   "metadata": {
    "nbpresent": {
     "id": "775b0fc0-abe8-4b10-8767-b6673642c1af"
    },
    "slideshow": {
     "slide_type": "slide"
    }
   },
   "source": [
    "# Recent activities\n",
    "\n",
    " * BigDataSpain 2016 (November). Videos available: https://www.youtube.com/playlist?list=PL6O3g23-p8Tr5eqnIIPdBD_8eE5JBDBik\n",
    " * NIPS 2016. 5-10 December. https://nips.cc/ 30th Conference on Neural Information Processing Systems.\n",
    " \n",
    "# Future conferences\n",
    "\n",
    " * PyData London 2017. 5-7 May 2017. http://pydata.org/london2017/ CFP opens 2nd January"
   ]
  },
  {
   "cell_type": "markdown",
   "metadata": {
    "collapsed": true,
    "slideshow": {
     "slide_type": "slide"
    }
   },
   "source": [
    "# PyData Mallorca\n",
    "\n",
    "* 183 members (32 new members)\n",
    "* 7 organizers\n",
    "* Does your company want to sponsor the meetup? Contact us!\n"
   ]
  },
  {
   "cell_type": "markdown",
   "metadata": {
    "collapsed": true,
    "slideshow": {
     "slide_type": "slide"
    }
   },
   "source": [
    "# Social media awards\n",
    "\n",
    "* 3 tweets about #PyDataMallorca last month: ** @jcorrius, @thedeadwalkx, @SOCIB_data **\n",
    "* Members who also promoted PyData: \n",
    "    * Matías Pizarro\n",
    "    * Alex Pacheco\n",
    "    * José Estévez Fernández\n",
    "    * Toni Mas\n",
    "    * vtomasr5\n",
    "    * Laura Canaves\n",
    "    * Alex González\n",
    "    * Manuel González\n",
    "    * PereBal\n",
    "* Thank you!\n"
   ]
  },
  {
   "cell_type": "markdown",
   "metadata": {
    "collapsed": true,
    "slideshow": {
     "slide_type": "slide"
    }
   },
   "source": [
    "# Call For Papers\n",
    "\n",
    "* 2 talk proposals\n",
    "* We need more speakers\n",
    "* Call For Papers is open\n",
    "* Now speakers will also receive a gift!\n"
   ]
  },
  {
   "cell_type": "markdown",
   "metadata": {
    "nbpresent": {
     "id": "254d00fb-fc07-48ed-a347-f4d4966d181f"
    },
    "slideshow": {
     "slide_type": "slide"
    }
   },
   "source": [
    "# Now is your turn to speak\n",
    "\n",
    "Tell us about:\n",
    "* What **topics** would you like to learn about at PyData Mallorca\n",
    "* An **event** you attended or you are attending\n",
    "* An **open source** project you just discovered or you are contributing to\n",
    "* What your **company** is doing in terms of data science or big data\n",
    "* **Anything else**"
   ]
  },
  {
   "cell_type": "markdown",
   "metadata": {
    "slideshow": {
     "slide_type": "slide"
    }
   },
   "source": [
    "# Thanks to our sponsor\n",
    "\n",
    "## Máster de Análisis de Datos Masivos en Economía y Empresa\n",
    "\n",
    "More information: **madm.uib.es**\n",
    "\n",
    "![](images/master.png)\n"
   ]
  }
 ],
 "metadata": {
  "anaconda-cloud": {},
  "celltoolbar": "Slideshow",
  "kernelspec": {
   "display_name": "Python [conda root]",
   "language": "python",
   "name": "conda-root-py"
  },
  "language_info": {
   "codemirror_mode": {
    "name": "ipython",
    "version": 3
   },
   "file_extension": ".py",
   "mimetype": "text/x-python",
   "name": "python",
   "nbconvert_exporter": "python",
   "pygments_lexer": "ipython3",
   "version": "3.5.2"
  },
  "nbpresent": {
   "slides": {
    "0374cdb0-02d3-45b5-94bf-4651c5fb36b9": {
     "id": "0374cdb0-02d3-45b5-94bf-4651c5fb36b9",
     "prev": "08b29731-7d4a-4ad1-9690-99d8fdb73689",
     "regions": {
      "3df591ce-06e2-4de2-b7a4-7de5419f8d1a": {
       "attrs": {
        "height": 0.8,
        "width": 0.8,
        "x": 0.1,
        "y": 0.1
       },
       "content": {
        "cell": "254d00fb-fc07-48ed-a347-f4d4966d181f",
        "part": "whole"
       },
       "id": "3df591ce-06e2-4de2-b7a4-7de5419f8d1a"
      }
     }
    },
    "08b29731-7d4a-4ad1-9690-99d8fdb73689": {
     "id": "08b29731-7d4a-4ad1-9690-99d8fdb73689",
     "prev": "4be22146-b4e5-4480-9e6e-1b653836792c",
     "regions": {
      "dcb4c161-204a-4969-80fb-297e96efa5b3": {
       "attrs": {
        "height": 0.8,
        "width": 0.8,
        "x": 0.1,
        "y": 0.1
       },
       "content": {
        "cell": "40d1e417-7842-4495-8b85-305362bb248c",
        "part": "whole"
       },
       "id": "dcb4c161-204a-4969-80fb-297e96efa5b3"
      }
     }
    },
    "1a11c123-4e1a-4953-8366-b6939eb91893": {
     "id": "1a11c123-4e1a-4953-8366-b6939eb91893",
     "prev": "6a22beb0-2525-485a-b183-e225d43c0958",
     "regions": {
      "e5684cd2-9f3a-440e-b310-999fc7cff420": {
       "attrs": {
        "height": 0.8,
        "width": 0.8,
        "x": 0.1,
        "y": 0.1
       },
       "content": {
        "cell": "e0e2da0e-7399-44cb-a5b4-19b4b2a98ca7",
        "part": "whole"
       },
       "id": "e5684cd2-9f3a-440e-b310-999fc7cff420"
      }
     }
    },
    "41abb254-5117-44ad-adbc-9e5c79c57501": {
     "id": "41abb254-5117-44ad-adbc-9e5c79c57501",
     "prev": "c7c2dce9-1465-49d7-8696-472a510c3756",
     "regions": {
      "637bb5d1-8a07-4cf0-995c-3571dc04a74b": {
       "attrs": {
        "height": 0.8,
        "width": 0.8,
        "x": 0.1,
        "y": 0.1
       },
       "content": {
        "cell": "3de52f1c-9eee-44b0-8f6b-dbaa7e107cf7",
        "part": "whole"
       },
       "id": "637bb5d1-8a07-4cf0-995c-3571dc04a74b"
      }
     },
     "theme": null
    },
    "4ad30291-d6c0-4135-89c6-368c3247de37": {
     "id": "4ad30291-d6c0-4135-89c6-368c3247de37",
     "prev": "84d55f4d-be6c-4d2f-8f8f-f16858f04fd7",
     "regions": {
      "15cf2098-8508-4a6f-99b0-d8e309382bbd": {
       "attrs": {
        "height": 0.8,
        "width": 0.8,
        "x": 0.1,
        "y": 0.1
       },
       "content": {
        "cell": "e348d1d4-26ec-4f6b-a0a9-329f6a52533c",
        "part": "whole"
       },
       "id": "15cf2098-8508-4a6f-99b0-d8e309382bbd"
      }
     }
    },
    "4be22146-b4e5-4480-9e6e-1b653836792c": {
     "id": "4be22146-b4e5-4480-9e6e-1b653836792c",
     "prev": "6c2a30a6-9015-46ac-9d7e-06e8f3bbeb30",
     "regions": {
      "a5d6274d-4a8d-4b6d-a8a1-325194f59e5f": {
       "attrs": {
        "height": 0.8,
        "width": 0.8,
        "x": 0.1,
        "y": 0.1
       },
       "content": {
        "cell": "775b0fc0-abe8-4b10-8767-b6673642c1af",
        "part": "whole"
       },
       "id": "a5d6274d-4a8d-4b6d-a8a1-325194f59e5f"
      }
     }
    },
    "59941f87-e6bc-45b8-8df5-f9d2616b2aeb": {
     "id": "59941f87-e6bc-45b8-8df5-f9d2616b2aeb",
     "prev": "4ad30291-d6c0-4135-89c6-368c3247de37",
     "regions": {
      "2508947b-4bd6-473a-8726-75b3fb8f4f67": {
       "attrs": {
        "height": 0.8,
        "width": 0.8,
        "x": 0.1,
        "y": 0.1
       },
       "content": {
        "cell": "db42a754-bec9-4972-842f-b602daea8159",
        "part": "whole"
       },
       "id": "2508947b-4bd6-473a-8726-75b3fb8f4f67"
      }
     }
    },
    "6a22beb0-2525-485a-b183-e225d43c0958": {
     "id": "6a22beb0-2525-485a-b183-e225d43c0958",
     "prev": null,
     "regions": {
      "f03ccb4b-1094-41cb-b8e8-ffdffcae6c2e": {
       "attrs": {
        "height": 0.8,
        "width": 0.8,
        "x": 0.1,
        "y": 0.1
       },
       "content": {
        "cell": "51208b87-b466-4f24-8c8f-6414a0eeee12",
        "part": "whole"
       },
       "id": "f03ccb4b-1094-41cb-b8e8-ffdffcae6c2e"
      }
     }
    },
    "6c2a30a6-9015-46ac-9d7e-06e8f3bbeb30": {
     "id": "6c2a30a6-9015-46ac-9d7e-06e8f3bbeb30",
     "prev": "41abb254-5117-44ad-adbc-9e5c79c57501",
     "regions": {
      "ff7a79f4-e35f-46c9-9ea8-c0ba9e5aca34": {
       "attrs": {
        "height": 0.8,
        "width": 0.8,
        "x": 0.1,
        "y": 0.1
       },
       "content": {
        "cell": "8fa1cb98-c4ba-4d9f-9e36-bfe38cd217d3",
        "part": "whole"
       },
       "id": "ff7a79f4-e35f-46c9-9ea8-c0ba9e5aca34"
      }
     }
    },
    "84d55f4d-be6c-4d2f-8f8f-f16858f04fd7": {
     "id": "84d55f4d-be6c-4d2f-8f8f-f16858f04fd7",
     "prev": "1a11c123-4e1a-4953-8366-b6939eb91893",
     "regions": {
      "f9cb24ef-4e66-4d57-ac79-c6a32da0d833": {
       "attrs": {
        "height": 0.8,
        "width": 0.8,
        "x": 0.1,
        "y": 0.1
       },
       "content": {
        "cell": "1a56e118-aec4-4c6b-b2b4-ece621cb9698",
        "part": "whole"
       },
       "id": "f9cb24ef-4e66-4d57-ac79-c6a32da0d833"
      }
     }
    },
    "c7c2dce9-1465-49d7-8696-472a510c3756": {
     "id": "c7c2dce9-1465-49d7-8696-472a510c3756",
     "prev": "db3f663a-015f-4bdb-863b-010f50cf72a8",
     "regions": {
      "3a10e8f9-bef2-4d80-bfb1-b2128dc1018a": {
       "attrs": {
        "height": 0.8,
        "width": 0.8,
        "x": 0.1,
        "y": 0.1
       },
       "content": {
        "cell": "864b4eab-5832-44ad-96dd-fc89c511865f",
        "part": "whole"
       },
       "id": "3a10e8f9-bef2-4d80-bfb1-b2128dc1018a"
      }
     }
    },
    "db3f663a-015f-4bdb-863b-010f50cf72a8": {
     "id": "db3f663a-015f-4bdb-863b-010f50cf72a8",
     "prev": "59941f87-e6bc-45b8-8df5-f9d2616b2aeb",
     "regions": {
      "b038a995-709f-45a2-bfeb-7f0feaaf8f99": {
       "attrs": {
        "height": 0.8,
        "width": 0.8,
        "x": 0.1,
        "y": 0.1
       },
       "content": {
        "cell": "e16e9696-7a70-4138-9908-e1fc41fb0f55",
        "part": "whole"
       },
       "id": "b038a995-709f-45a2-bfeb-7f0feaaf8f99"
      }
     }
    }
   },
   "themes": {}
  }
 },
 "nbformat": 4,
 "nbformat_minor": 0
}
